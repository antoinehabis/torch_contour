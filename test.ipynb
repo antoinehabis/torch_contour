{
 "cells": [
  {
   "cell_type": "code",
   "execution_count": 4,
   "metadata": {},
   "outputs": [],
   "source": [
    "from torch_contour.torch_contour import area, perimeter, hausdorff_distance\n",
    "import torch\n",
    "\n",
    "polygons1 = torch.tensor([\n",
    "   [[0, 0], [1, 0], [1, 1], [0, 1]],  # Square\n",
    "   [[0, 0], [2, 0], [2, 1], [0, 1]]   # Rectangle\n",
    "], dtype=torch.float32).permute(0, 2, 1)  # Permute to shape (B, 2, N)\n",
    "polygons2 = torch.tensor([\n",
    "   [[0, 0], [1, 0], [1, 1], [0, 1]],  # Another Square\n",
    "   [[0, 0], [2, 0], [2, 2], [0, 2]]   # Another Rectangle\n",
    "], dtype=torch.float32).permute(0, 2, 1)  # Permute to shape (B, 2, N)\n",
    "\n",
    "\n",
    "area_ = area(polygons1)\n",
    "perimeter_ = perimeter(polygons2)\n",
    "hausdorff_dists = hausdorff_distance(polygons1, polygons2)"
   ]
  }
 ],
 "metadata": {
  "kernelspec": {
   "display_name": "Python 3",
   "language": "python",
   "name": "python3"
  },
  "language_info": {
   "codemirror_mode": {
    "name": "ipython",
    "version": 3
   },
   "file_extension": ".py",
   "mimetype": "text/x-python",
   "name": "python",
   "nbconvert_exporter": "python",
   "pygments_lexer": "ipython3",
   "version": "3.8.10"
  }
 },
 "nbformat": 4,
 "nbformat_minor": 2
}
