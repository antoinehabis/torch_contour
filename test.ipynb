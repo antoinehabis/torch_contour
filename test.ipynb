{
 "cells": [
  {
   "cell_type": "code",
   "execution_count": 17,
   "metadata": {},
   "outputs": [
    {
     "data": {
      "text/plain": [
       "torch.Size([1, 30])"
      ]
     },
     "execution_count": 17,
     "metadata": {},
     "output_type": "execute_result"
    }
   ],
   "source": [
    "import torch\n",
    "def area(x):\n",
    "    y = torch.prod(torch.roll(x[:,1,:],shifts=-1,dims=1), dim = 1)\n",
    "    z = torch.prod(torch.roll(x[:,1,:],shifts=1,dims=1), dim = 1)\n",
    "\n",
    "    return (torch.abs(y-z)/2.)[None]\n",
    "area(torch.ones(30,2,10)).shape"
   ]
  },
  {
   "cell_type": "code",
   "execution_count": 34,
   "metadata": {},
   "outputs": [
    {
     "name": "stdout",
     "output_type": "stream",
     "text": [
      "torch.Size([2, 2, 4])\n",
      "torch.Size([2, 4, 4])\n",
      "torch.Size([2])\n"
     ]
    }
   ],
   "source": [
    "import torch\n",
    "\n",
    "def hausdorff_distance(polygons1, polygons2):\n",
    "    \"\"\"\n",
    "    Computes the Hausdorff distance between two batches of 2D polygons.\n",
    "\n",
    "    Parameters:\n",
    "    polygons1 (torch.Tensor): A tensor of shape (B, 2, N) representing the first batch of polygons,\n",
    "                        where B is the batch size and N is the number of points in each polygon.\n",
    "    polygons2 (torch.Tensor): A tensor of shape (B, 2, N) representing the second batch of polygons,\n",
    "                        where B is the batch size and N is the number of points in each polygon.\n",
    "\n",
    "    Returns:\n",
    "    torch.Tensor: A 1D tensor of shape (B,) containing the Hausdorff distance for each pair of polygons.\n",
    "    \"\"\"\n",
    "    B, _, N = polygons1.shape\n",
    "\n",
    "    # Compute pairwise distances\n",
    "    polygons1 = polygons1.permute(0, 2, 1)  # (B, N, 1, 2)\n",
    "    polygons2 = polygons2.permute(0, 2, 1)  # (B, 1, N, 2)\n",
    "\n",
    "    dists = torch.cdist(polygons1, polygons2)  # (B, N, N)\n",
    "    # Compute the directed Hausdorff distances\n",
    "    min_dist_polygons1_to_polygons2, _ = torch.min(dists, dim=2)  # (B, N)\n",
    "    min_dist_polygons2_to_polygons1, _ = torch.min(dists, dim=1)  # (B, N)\n",
    "\n",
    "    # Max of the minimum distances\n",
    "    hausdorff_dist_polygons1_to_polygons2 = torch.max(min_dist_polygons1_to_polygons2, dim=1).values  # (B,)\n",
    "    hausdorff_dist_polygons2_to_polygons1 = torch.max(min_dist_polygons2_to_polygons1, dim=1).values  # (B,)\n",
    "\n",
    "    # Final Hausdorff distance is the maximum of both directed distances\n",
    "    hausdorff_dist = torch.max(hausdorff_dist_polygons1_to_polygons2, hausdorff_dist_polygons2_to_polygons1)\n",
    "\n",
    "    return hausdorff_dist\n",
    "\n",
    "batch1 = torch.tensor([\n",
    "    [[0, 0], [1, 0], [1, 1], [0, 1]],  # Square\n",
    "    [[0, 0], [2, 0], [2, 1], [0, 1]]   # Rectangle\n",
    "], dtype=torch.float32).permute(0, 2, 1)  # Permute to shape (B, 2, N)\n",
    "batch2 = torch.tensor([\n",
    "    [[0, 0], [1, 0], [1, 1], [0, 1]],  # Another Square\n",
    "    [[0, 0], [2, 0], [2, 2], [0, 2]]   # Another Rectangle\n",
    "], dtype=torch.float32).permute(0, 2, 1)  # Permute to shape (B, 2, N)\n",
    "# print(batch2.shape)\n",
    "\n",
    "# Calculate the Hausdorff distance between the batches of polygons\n",
    "hausdorff_dists = hausdorff_distance(batch1, batch2)\n",
    "\n",
    "print(hausdorff_dists.shape) "
   ]
  }
 ],
 "metadata": {
  "kernelspec": {
   "display_name": "Python 3",
   "language": "python",
   "name": "python3"
  },
  "language_info": {
   "codemirror_mode": {
    "name": "ipython",
    "version": 3
   },
   "file_extension": ".py",
   "mimetype": "text/x-python",
   "name": "python",
   "nbconvert_exporter": "python",
   "pygments_lexer": "ipython3",
   "version": "3.8.10"
  }
 },
 "nbformat": 4,
 "nbformat_minor": 2
}
